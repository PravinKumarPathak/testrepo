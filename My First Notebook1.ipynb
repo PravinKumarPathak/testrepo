{
 "cells": [
  {
   "cell_type": "markdown",
   "id": "98c61670",
   "metadata": {},
   "source": [
    "# String\n",
    "First"
   ]
  },
  {
   "cell_type": "code",
   "execution_count": 1,
   "id": "c876a2f9",
   "metadata": {},
   "outputs": [
    {
     "name": "stdout",
     "output_type": "stream",
     "text": [
      "Hello World\n"
     ]
    }
   ],
   "source": [
    "print(\"Hello World\")"
   ]
  },
  {
   "cell_type": "code",
   "execution_count": null,
   "id": "52b3a089",
   "metadata": {},
   "outputs": [],
   "source": [
    "## \n",
    "Second"
   ]
  },
  {
   "cell_type": "code",
   "execution_count": 3,
   "id": "dfe9e057",
   "metadata": {},
   "outputs": [
    {
     "name": "stdout",
     "output_type": "stream",
     "text": [
      "PravinKumarPathak\n"
     ]
    }
   ],
   "source": [
    "print(\"Pravin\"+\"Kumar\"+\"Pathak\")"
   ]
  },
  {
   "cell_type": "markdown",
   "id": "22c8e458",
   "metadata": {},
   "source": [
    "# Integer"
   ]
  },
  {
   "cell_type": "code",
   "execution_count": 2,
   "id": "18488c5b",
   "metadata": {},
   "outputs": [
    {
     "name": "stdout",
     "output_type": "stream",
     "text": [
      "8\n"
     ]
    }
   ],
   "source": [
    "print(3+5)"
   ]
  },
  {
   "cell_type": "markdown",
   "id": "d896fcbf",
   "metadata": {},
   "source": []
  }
 ],
 "metadata": {
  "kernelspec": {
   "display_name": "Python 3 (ipykernel)",
   "language": "python",
   "name": "python3"
  },
  "language_info": {
   "codemirror_mode": {
    "name": "ipython",
    "version": 3
   },
   "file_extension": ".py",
   "mimetype": "text/x-python",
   "name": "python",
   "nbconvert_exporter": "python",
   "pygments_lexer": "ipython3",
   "version": "3.11.3"
  }
 },
 "nbformat": 4,
 "nbformat_minor": 5
}
